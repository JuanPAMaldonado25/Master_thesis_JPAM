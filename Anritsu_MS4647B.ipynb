{
 "cells": [
  {
   "cell_type": "code",
   "execution_count": 28,
   "metadata": {},
   "outputs": [
    {
     "name": "stdout",
     "output_type": "stream",
     "text": [
      "Using pyvisa  1.12.0\n",
      "Connection established to  ANRITSU,37397D,1813864,V2022.6.1\n",
      "VNA programming language set to  LIGHT\n"
     ]
    }
   ],
   "source": [
    "#before, I run in conda pip install -U pyvisa\n",
    "import skrf as rf\n",
    "import pyvisa\n",
    "import time #in case some commands take longer for the vna to process, I can forcefully make python wait\n",
    "from datetime import datetime,timezone,timedelta\n",
    "print('Using pyvisa ',pyvisa.__version__)\n",
    "rm = pyvisa.ResourceManager()#after importing visa, we create a resource manager. ResourceManager will provide you with the appropriate class. \n",
    "vna = rm.open_resource('TCPIP::169.254.156.254::INSTR') #here, my TCPIP is given by the VNA IP address.open_resource has given you an instance of GPIBInstrument class (a subclass of the more generic Resource\n",
    "\"\"\"\n",
    "For most instruments, you actually need to properly configure the instrument so that it understands the message sent by the computer (in particular how to identifies the end of the commands) and so that computer knows\n",
    "when the instrument is done talking. If you don’t you are likely to see a VisaIOError reporting a timeout.\n",
    "\"\"\"\n",
    "vna.read_termination = '\\n' #VNA manual says this is the termination character. Like this, the PC knows if the VNA has stopped talking when this character appears. I confirmed this is the character in several ways\n",
    "vna.write_termination = '\\n' #now, by default, what I write will be added to a \\n, so I do not need to add it. I confirmed this is the character in several ways.\n",
    "#vna.baud_rate = 57600 #baud rate refers to the rate at which the serial connection transfer data. 9600 by default, VNA manual does not specify\n",
    "print('Connection established to ',vna.query('*IDN?')) #standard GPIB message for “what are you?” or – in some cases – “what’s on your display at the moment?”. query is a short form for a write operation to send a message, followed by a read.\n",
    "print('VNA programming language set to ',vna.query('LANG?'))"
   ]
  },
  {
   "cell_type": "code",
   "execution_count": 3,
   "metadata": {},
   "outputs": [],
   "source": [
    "#setting and checking the adapter length for adapter removal with auto cal kit\n",
    "#vna.write(\"ACADPL 0\") #meters\n",
    "#vna.query(\"ACADPL?\")"
   ]
  },
  {
   "cell_type": "code",
   "execution_count": 18,
   "metadata": {},
   "outputs": [
    {
     "data": {
      "text/plain": [
       "20"
      ]
     },
     "execution_count": 18,
     "metadata": {},
     "output_type": "execute_result"
    }
   ],
   "source": [
    "start_freq_setting = 18e9 #Hz\n",
    "end_freq_setting = 20e9 #Hz\n",
    "number_points_setting = 2001 #Delta F should not have many decimal places, otherwise numerical errors can occur\n",
    "power_setting = 0 #dBm. Can be high as long as I am not using any active components such as an amplifier\n",
    "IFBW_setting = 300 #Hz. Refers to the resolution bandwidth of the device. Low enough to reduce noise without sacrificing measuring time too much\n",
    "# Set the frequency range\n",
    "vna.write(':SENSe1:FREQuency:STARt {0};:SENSe1:FREQuency:STOP {1}'.format(start_freq_setting,end_freq_setting))\n",
    "#set the number of points\n",
    "vna.write(\":SENS1:SWE:POIN {0}\".format(number_points_setting))\n",
    "#setting the power level and the IFBW\n",
    "vna.write('PWR {0};SENS:BWID {1}'.format(power_setting,IFBW_setting))\n"
   ]
  },
  {
   "cell_type": "code",
   "execution_count": 23,
   "metadata": {},
   "outputs": [],
   "source": [
    "# Query the frequency range to confirm the settings\n",
    "start_freq_read = vna.query(':SENS1:FREQ:STAR?',delay=2) #Some instruments may be slow in answering and may require you to either increase the timeout or specify a delay between the write and read operation.\n",
    "                                                      #wait 100 ms after writing before reading.\n",
    "stop_freq_read = vna.query(':SENS1:FREQ:STOP?',delay=2)\n",
    "number_points_read = vna.query(':SENS1:SWE:POIN?',delay=2)\n",
    "IFBW_read = vna.query('SENS:BWID?',delay=2)\n",
    "power_read = vna.query('PWR?',delay=2)\n"
   ]
  },
  {
   "cell_type": "code",
   "execution_count": 24,
   "metadata": {},
   "outputs": [
    {
     "name": "stdout",
     "output_type": "stream",
     "text": [
      "Frequency range: 1.80000000000E+10 Hz to 2.00000000000E+10  Hz with  2084  points. \n",
      " Output power set to   0.00000000000E+00  dBm and IFBW of   3.00000000000E+02  Hz\n"
     ]
    }
   ],
   "source": [
    "print('Frequency range:', start_freq_read.strip(), 'Hz to', stop_freq_read.strip(),' Hz with ',number_points_read,' points. \\n Output power set to ',power_read,' dBm and IFBW of ',IFBW_read,' Hz')"
   ]
  },
  {
   "cell_type": "code",
   "execution_count": 29,
   "metadata": {},
   "outputs": [],
   "source": [
    "def autoscale():\n",
    "    try:\n",
    "        #To autoscale the traces. Do this everytime before saving the data. It can improve the resolution.\n",
    "        vna.write('CHAN1') #to select trace 1 as active trace\n",
    "        vna.write(\"ASC\") #to autoscale active trace\n",
    "\n",
    "        vna.write('CHAN2')\n",
    "        vna.write(\"ASC\")\n",
    "\n",
    "        vna.write('CHAN3')\n",
    "        vna.write(\"ASC\")\n",
    "\n",
    "        vna.write('CHAN4')\n",
    "        vna.write(\"ASC\")\n",
    "\n",
    "        return None\n",
    "    except:\n",
    "        return print('Could not autoscale the traces')\n",
    "    \n",
    "\n",
    "def datetime_name():\n",
    "    return datetime.now(timezone.utc).strftime(\"%y%m%d%H%M%S\")"
   ]
  },
  {
   "cell_type": "code",
   "execution_count": 30,
   "metadata": {},
   "outputs": [
    {
     "name": "stdout",
     "output_type": "stream",
     "text": [
      "Safe to manually operate the VNA again, remote control turned OFF\n"
     ]
    }
   ],
   "source": [
    "storing_folder_in_VNA = \"C:/Users/VectorStarUser/Desktop/Juan/continous_measurement/\"\n",
    "filename_in_VNA = \"_VNAp1_SP_VNAp2_port6.s2p\"\n",
    "datetime_initial = datetime.now()\n",
    "taking_data_for = 48 #hours\n",
    "delta_t = 40 #seconds, time between samples\n",
    "\n",
    "autoscale() #autoscaling all the traces before starting\n",
    "\n",
    "while True:\n",
    "    #taking data for a limited amount of time, given by \n",
    "    if datetime.now() - datetime_initial < timedelta(hours = taking_data_for):\n",
    "        #autoscale() #autoscale all traces each hour in case major changes have happened\n",
    "        \n",
    "        #first we take a single sweep\n",
    "        vna.write(\"SENSe:HOLD:FUNCtion SINGLE\")\n",
    "        finished_save = vna.query(\"*OPC?\")\n",
    "\n",
    "        #Then we store the file on the VNA\n",
    "        vna.write(\":MMEMory:STORe \" + \"'\" + storing_folder_in_VNA + datetime_name() +filename_in_VNA + \"'\")\n",
    "        finished_save = vna.query(\"*OPC?\")\n",
    "\n",
    "        #now we wait some seconds to take data again\n",
    "        time.sleep(delta_t) # sleep between iterations\n",
    "    elif datetime.now() - datetime_initial >= timedelta(hours = taking_data_for):\n",
    "        #After data taking, finish the remote connection\n",
    "        try:\n",
    "            # Send a command to return the VNA to local mode\n",
    "            vna.write(\"SENSe:HOLD:FUNCtion CONT\")\n",
    "            vna.write(\"RTL\")\n",
    "            #Close the device on PyVISA\n",
    "            vna.close()\n",
    "            print('Safe to manually operate the VNA again, remote control turned OFF')\n",
    "            break\n",
    "        except:\n",
    "            print('were not able to go back to local mode. You can also exit remote mode by pressing ctrol-> in the device panel')"
   ]
  },
  {
   "cell_type": "code",
   "execution_count": 8,
   "metadata": {},
   "outputs": [
    {
     "name": "stdout",
     "output_type": "stream",
     "text": [
      "were not able to go back to local mode. You can also exit remote mode by pressing ctrol-> in the device panel\n"
     ]
    }
   ],
   "source": [
    "try:\n",
    "    # Send a command to return the VNA to local mode\n",
    "    vna.write(\"SENSe:HOLD:FUNCtion CONT\")\n",
    "    vna.write(\"RTL\")\n",
    "    #Close the device on PyVISA\n",
    "    vna.close()\n",
    "    print('Safe to manually operate the VNA again, remote control turned OFF')\n",
    "except:\n",
    "    print('were not able to go back to local mode. You can also exit remote mode by pressing ctrol-> in the device panel')"
   ]
  },
  {
   "cell_type": "code",
   "execution_count": null,
   "metadata": {},
   "outputs": [],
   "source": []
  }
 ],
 "metadata": {
  "kernelspec": {
   "display_name": "base",
   "language": "python",
   "name": "python3"
  },
  "language_info": {
   "codemirror_mode": {
    "name": "ipython",
    "version": 3
   },
   "file_extension": ".py",
   "mimetype": "text/x-python",
   "name": "python",
   "nbconvert_exporter": "python",
   "pygments_lexer": "ipython3",
   "version": "3.7.16"
  },
  "orig_nbformat": 4,
  "vscode": {
   "interpreter": {
    "hash": "4613f9f77328edc28813f5e358930d719d55b412a0b19fc0de37bb480afcb0e0"
   }
  }
 },
 "nbformat": 4,
 "nbformat_minor": 2
}
