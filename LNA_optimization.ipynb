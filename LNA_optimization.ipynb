{
 "cells": [
  {
   "cell_type": "code",
   "execution_count": 2,
   "metadata": {},
   "outputs": [],
   "source": [
    "import matplotlib.pyplot as plt\n",
    "import matplotlib.cm as cm\n",
    "import numpy as np\n",
    "import seaborn as sns\n",
    "import pandas as pd\n",
    "sns.set_style(\"whitegrid\")\n",
    "import matplotlib.colors as colors\n",
    "GOLDENRATIO = (1 + 5 ** 0.5) / 2\n",
    "GOLDEN = (9, 9/GOLDENRATIO)\n",
    "import skrf as rf\n",
    "#rf.stylely() #nicer styling\n",
    "%matplotlib inline\n"
   ]
  },
  {
   "cell_type": "code",
   "execution_count": 1,
   "metadata": {},
   "outputs": [
    {
     "ename": "NameError",
     "evalue": "name 'LNA_networks' is not defined",
     "output_type": "error",
     "traceback": [
      "\u001b[1;31m---------------------------------------------------------------------------\u001b[0m",
      "\u001b[1;31mNameError\u001b[0m                                 Traceback (most recent call last)",
      "\u001b[1;32m~\\AppData\\Local\\Temp\\ipykernel_18352\\1155116456.py\u001b[0m in \u001b[0;36m<module>\u001b[1;34m\u001b[0m\n\u001b[1;32m----> 1\u001b[1;33m \u001b[0mLNC_6_20C\u001b[0m \u001b[1;33m=\u001b[0m \u001b[0mLNA_networks\u001b[0m\u001b[1;33m[\u001b[0m\u001b[1;34m'230802172818_VNAp1_kapton_switch_T2_VNAp2_LNA'\u001b[0m\u001b[1;33m]\u001b[0m\u001b[1;33m\u001b[0m\u001b[1;33m\u001b[0m\u001b[0m\n\u001b[0m\u001b[0;32m      2\u001b[0m \u001b[1;33m\u001b[0m\u001b[0m\n\u001b[0;32m      3\u001b[0m \u001b[0mLNA_S\u001b[0m \u001b[1;33m=\u001b[0m \u001b[0mLNC_6_20C\u001b[0m\u001b[1;33m.\u001b[0m\u001b[0ms\u001b[0m \u001b[1;31m#extracting the S11 values of the network\u001b[0m\u001b[1;33m\u001b[0m\u001b[1;33m\u001b[0m\u001b[0m\n\u001b[0;32m      4\u001b[0m \u001b[0mimaginary_LNA_S\u001b[0m \u001b[1;33m=\u001b[0m \u001b[0mLNA_S\u001b[0m\u001b[1;33m.\u001b[0m\u001b[0mimag\u001b[0m \u001b[1;31m#extracting only the imaginary part of each S11\u001b[0m\u001b[1;33m\u001b[0m\u001b[1;33m\u001b[0m\u001b[0m\n\u001b[0;32m      5\u001b[0m \u001b[0mimaginary_S11\u001b[0m \u001b[1;33m=\u001b[0m \u001b[0mimaginary_LNA_S\u001b[0m\u001b[1;33m[\u001b[0m\u001b[1;33m:\u001b[0m\u001b[1;33m,\u001b[0m\u001b[1;36m1\u001b[0m\u001b[1;33m,\u001b[0m\u001b[1;36m1\u001b[0m\u001b[1;33m]\u001b[0m \u001b[1;31m#taking only the S11 at the first port z11\u001b[0m\u001b[1;33m\u001b[0m\u001b[1;33m\u001b[0m\u001b[0m\n",
      "\u001b[1;31mNameError\u001b[0m: name 'LNA_networks' is not defined"
     ]
    }
   ],
   "source": [
    "LNC_6_20C = #read your network here\n",
    "\n",
    "LNA_S = LNC_6_20C.s #extracting the Sii values of the network\n",
    "imaginary_LNA_S = LNA_S.imag #extracting only the imaginary part of each Sii\n",
    "imaginary_S11 = imaginary_LNA_S[:,1,1] #taking only the S11 at the first port zii\n",
    "\n",
    "def compute_imaginary_criteria(imaginary_LNA_S11):\n",
    "    imaginary_criteria = np.sum(np.abs(imaginary_LNA_S11)) #this is the parameter to minimize during the optimization. It's minimum is a point in the real axis of the smith chart = line de-embedded\n",
    "    return imaginary_criteria\n",
    "\n",
    "#initialization values\n",
    "fixed_permittivity_guess = 2.1\n",
    "initial_length_guess = 1400#7.5#mm\n",
    "delta_length = 1#0.001#0.0015 #mm\n",
    "maximum_length_possible = 1600#8.5#mm. ~physical length of the lna housing\n",
    "list_possible_lengths = np.arange(initial_length_guess,maximum_length_possible,delta_length) #in the optimization, I iterate through these values\n",
    "\n",
    "current_length = initial_length_guess\n",
    "freq = LNC_6_20C.frequency\n",
    "unknown_material = rf.Freespace(frequency=freq, ep_r=fixed_permittivity_guess,z0=50)\n",
    "\n",
    "imaginary_LNA_S11_list = [] #list to be filled with the imaginary impedances calculated, the optimal value is the index of the minimum in this list\n",
    "\n",
    "for length in list_possible_lengths:\n",
    "    #Compute the new impedance after removing this length:\n",
    "    deembedded_LNC_6_20C = LNC_6_20C**unknown_material.line(d=length,unit='mm').inv#unknown_material.line(d=length,unit='mm').inv**LNC_6_20C#\n",
    "    LNA_S = deembedded_LNC_6_20C.s #extracting the S11 values of the network\n",
    "    imaginary_LNA_S = LNA_S.imag #extracting only the imaginary part of each impedance\n",
    "    imaginary_LNA_S11 = imaginary_LNA_S[:,1,1] #taking only the impedance at the first port zii\n",
    "    #recalculate the target optimization parameter\n",
    "    imaginary_criteria_value = compute_imaginary_criteria(imaginary_LNA_S11)\n",
    "\n",
    "    imaginary_LNA_S11_list.append(imaginary_criteria_value)\n",
    "\n",
    "minimum_LNA_S11_index = np.argmin(np.asarray(imaginary_LNA_S11_list)) #extracting the argument of the minimum imaginary Sii\n",
    "minimum_LNA_S11_index\n",
    "optimal_length = list_possible_lengths[minimum_LNA_S11_index]\n",
    "\n",
    "print(\"Optimal Length: {} mm\".format(optimal_length))\n",
    "print(\"Minimum Imaginary Criteria Value/# of points: {}\".format(np.min(np.asarray(imaginary_LNA_S11_list))/len(freq)))"
   ]
  },
  {
   "cell_type": "code",
   "execution_count": null,
   "metadata": {},
   "outputs": [],
   "source": [
    "plt.figure(figsize=GOLDEN)\n",
    "plt.title('De-embedding internal length of LNA from S11 measurement',fontweight='bold')\n",
    "plt.plot(list_possible_lengths,np.asarray(imaginary_LNA_S11_list)/len(freq),label='Possible lengths')\n",
    "plt.scatter(optimal_length,np.min(np.asarray(imaginary_LNA_S11_list))/len(freq),color='red',label='Optimal value')\n",
    "plt.ylabel('Im(S11) per datapoint on average')\n",
    "plt.xlabel('Possible internal length sweep (mm)')\n",
    "plt.legend()\n",
    "plt.savefig('C:/Users/MADMAX/Desktop/Juan/thesis_images/cold_LNA_deembed.png')\n",
    "plt.show()"
   ]
  },
  {
   "cell_type": "code",
   "execution_count": null,
   "metadata": {},
   "outputs": [],
   "source": [
    "deembedded_LNC_6_20C = LNC_6_20C**unknown_material.line(d=optimal_length,unit='mm').inv\n",
    "\n",
    "fig = plt.figure(figsize=(12,6))\n",
    "fig.suptitle('de-embedding at 4K of LNA internal length with {} mm and e_r = {}'.format(np.round(optimal_length,3),fixed_permittivity_guess),fontweight='bold',fontsize=16)\n",
    "plt.subplot(1,2,1)\n",
    "LNC_6_20C.plot_s_smith(m=1,n=1,label='S11 before')\n",
    "deembedded_LNC_6_20C.plot_s_smith(m=1,n=1,label='S11 after')\n",
    "\n",
    "plt.subplot(1,2,2)\n",
    "LNC_6_20C.plot_z_mag(m=1,n=1,label='Z11 before')\n",
    "deembedded_LNC_6_20C.plot_z_mag(m=1,n=1,label='Z11 after')\n",
    "mean_impedance = np.round(np.mean(deembedded_LNC_6_20C.z_mag[:,1,1]),0)\n",
    "plt.axhline(mean_impedance,label='Mean impedance = {} Ohm'.format(int(mean_impedance)),color='orange',linestyle='--')\n",
    "\n",
    "plt.legend()\n",
    "#plt.savefig('C:/Users/MADMAX/Desktop/Juan/thesis_images/cold_LNA_deembed_3_ColdResult.png')\n",
    "plt.show()"
   ]
  }
 ],
 "metadata": {
  "kernelspec": {
   "display_name": "base",
   "language": "python",
   "name": "python3"
  },
  "language_info": {
   "codemirror_mode": {
    "name": "ipython",
    "version": 3
   },
   "file_extension": ".py",
   "mimetype": "text/x-python",
   "name": "python",
   "nbconvert_exporter": "python",
   "pygments_lexer": "ipython3",
   "version": "3.7.16"
  },
  "orig_nbformat": 4
 },
 "nbformat": 4,
 "nbformat_minor": 2
}
